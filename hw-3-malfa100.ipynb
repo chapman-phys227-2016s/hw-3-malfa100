{
 "cells": [
  {
   "cell_type": "code",
   "execution_count": 1,
   "metadata": {
    "collapsed": false
   },
   "outputs": [],
   "source": [
    "import numpy as np\n",
    "import matplotlib.pyplot as plt\n",
    "\n",
    "import loan as p1\n",
    "import root_finder_examples as p2\n",
    "import arclength as p3\n",
    "import sin_Taylor_series_diffeq as p4"
   ]
  },
  {
   "cell_type": "markdown",
   "metadata": {
    "collapsed": false
   },
   "source": [
    "# Homework 3\n",
    "### Andrew Malfavon\n",
    "\n",
    "## Excercises\n",
    "1. Exercise A.4 (loan.py)\n",
    "2. Exercise A.11 (root_finder_examples.py)\n",
    "3. Exercise A.13 (arclength.py)\n",
    "4. Exercise A.14 (sin_Taylor_series_diffeq.py)"
   ]
  },
  {
   "cell_type": "markdown",
   "metadata": {},
   "source": [
    "## Excercise A.4 (loan.py):\n",
    "Based on a loan amount, L, a percentage representing the interest rate, p, and a number of months, N, the amount paid per month and the value of the loan after each month is calculated and stored in two arrays. Four examples are shown below for a loan of $\\$100$ with an interest rate of $5\\%$ over the span of $12$ months."
   ]
  },
  {
   "cell_type": "code",
   "execution_count": 2,
   "metadata": {
    "collapsed": false
   },
   "outputs": [
    {
     "data": {
      "text/plain": [
       "8.75"
      ]
     },
     "execution_count": 2,
     "metadata": {},
     "output_type": "execute_result"
    }
   ],
   "source": [
    "#The first payment on the loan, with interest.\n",
    "p1.loan(100, 5, 12)[0][1]"
   ]
  },
  {
   "cell_type": "code",
   "execution_count": 3,
   "metadata": {
    "collapsed": false
   },
   "outputs": [
    {
     "data": {
      "text/plain": [
       "8.3680555555555554"
      ]
     },
     "execution_count": 3,
     "metadata": {},
     "output_type": "execute_result"
    }
   ],
   "source": [
    "#The last payment of the loan with interest.\n",
    "p1.loan(100, 5, 12)[0][12]"
   ]
  },
  {
   "cell_type": "code",
   "execution_count": 4,
   "metadata": {
    "collapsed": false
   },
   "outputs": [
    {
     "data": {
      "text/plain": [
       "100.0"
      ]
     },
     "execution_count": 4,
     "metadata": {},
     "output_type": "execute_result"
    }
   ],
   "source": [
    "#The initial value of the loan.\n",
    "p1.loan(100, 5, 12)[1][0]"
   ]
  },
  {
   "cell_type": "code",
   "execution_count": 5,
   "metadata": {
    "collapsed": false
   },
   "outputs": [
    {
     "data": {
      "text/plain": [
       "1.9539925233402755e-14"
      ]
     },
     "execution_count": 5,
     "metadata": {},
     "output_type": "execute_result"
    }
   ],
   "source": [
    "#How much of the loan is left after 12 months, which is approximately zero.\n",
    "p1.loan(100, 5, 12)[1][12]"
   ]
  },
  {
   "cell_type": "markdown",
   "metadata": {
    "collapsed": true
   },
   "source": [
    "## Excercise A.11 (root_finder_examples.py):\n",
    "Use Newton's Method, the Bisection Method, and the Secant Method to approximate the roots of several functions."
   ]
  },
  {
   "cell_type": "markdown",
   "metadata": {},
   "source": [
    "$$y = sin(x)$$"
   ]
  },
  {
   "cell_type": "code",
   "execution_count": 6,
   "metadata": {
    "collapsed": false
   },
   "outputs": [
    {
     "data": {
      "image/png": "[encoded data removed]",
      "text/plain": [
       "<matplotlib.figure.Figure at 0x7fefc0f42a90>"
      ]
     },
     "metadata": {},
     "output_type": "display_data"
    }
   ],
   "source": [
    "p2.graph(p2.func1, 0, 2 * np.pi, -1.2, 1.2)"
   ]
  },
  {
   "cell_type": "markdown",
   "metadata": {},
   "source": [
    "### Newton's Method:"
   ]
  },
  {
   "cell_type": "code",
   "execution_count": 7,
   "metadata": {
    "collapsed": false
   },
   "outputs": [
    {
     "data": {
      "text/plain": [
       "array([ 1.2       , -1.37215162,  3.59557218,  3.10759952,  3.14160575,\n",
       "        3.14159265])"
      ]
     },
     "execution_count": 7,
     "metadata": {},
     "output_type": "execute_result"
    }
   ],
   "source": [
    "p2.newtons_method(p2.func1, p2.funcp1, 1.2)"
   ]
  },
  {
   "cell_type": "markdown",
   "metadata": {},
   "source": [
    "### Bisection Method:"
   ]
  },
  {
   "cell_type": "code",
   "execution_count": 8,
   "metadata": {
    "collapsed": false
   },
   "outputs": [
    {
     "data": {
      "text/plain": [
       "[2.7707963267948967,\n",
       " 3.556194490192345,\n",
       " 3.163495408493621,\n",
       " 2.967145867644259,\n",
       " 3.0653206380689397,\n",
       " 3.11440802328128,\n",
       " 3.1389517158874503,\n",
       " 3.151223562190536,\n",
       " 3.145087639038993,\n",
       " 3.142019677463222,\n",
       " 3.140485696675336,\n",
       " 3.141252687069279,\n",
       " 3.14163618226625,\n",
       " 3.141444434667765,\n",
       " 3.1415403084670075,\n",
       " 3.141588245366629,\n",
       " 3.1416122138164395,\n",
       " 3.141600229591534,\n",
       " 3.1415942374790813]"
      ]
     },
     "execution_count": 8,
     "metadata": {},
     "output_type": "execute_result"
    }
   ],
   "source": [
    "p2.bisection_method(p2.func1, 1.2, (np.pi + 1.2))"
   ]
  },
  {
   "cell_type": "markdown",
   "metadata": {},
   "source": [
    "### Secant Method:"
   ]
  },
  {
   "cell_type": "code",
   "execution_count": 9,
   "metadata": {
    "collapsed": false
   },
   "outputs": [
    {
     "data": {
      "text/plain": [
       "array([ 1.2       ,  3.5       ,  2.87107313,  3.14302342,  3.14157515,\n",
       "        3.14159265,  3.14159265])"
      ]
     },
     "execution_count": 9,
     "metadata": {},
     "output_type": "execute_result"
    }
   ],
   "source": [
    "p2.secant_method(p2.func1, 1.2, 3.5)"
   ]
  },
  {
   "cell_type": "markdown",
   "metadata": {},
   "source": [
    "$$y= x - sin(x)$$"
   ]
  },
  {
   "cell_type": "code",
   "execution_count": 10,
   "metadata": {
    "collapsed": false
   },
   "outputs": [
    {
     "data": {
      "image/png": "[encoded data removed]",
      "text/plain": [
       "<matplotlib.figure.Figure at 0x7fefc0edb510>"
      ]
     },
     "metadata": {},
     "output_type": "display_data"
    }
   ],
   "source": [
    "p2.graph(p2.func2, -6, 6, -6, 6)"
   ]
  },
  {
   "cell_type": "markdown",
   "metadata": {},
   "source": [
    "### Newton's Method:"
   ]
  },
  {
   "cell_type": "code",
   "execution_count": 11,
   "metadata": {
    "collapsed": false
   },
   "outputs": [
    {
     "data": {
      "text/plain": [
       "array([ 1.        ,  0.65514507,  0.43359037,  0.2881484 ,  0.19183231,\n",
       "        0.12780967,  0.08518323,  0.05678195,  0.0378526 ,  0.02523446,\n",
       "        0.0168228 ,  0.01121515,  0.00747675])"
      ]
     },
     "execution_count": 11,
     "metadata": {},
     "output_type": "execute_result"
    }
   ],
   "source": [
    "p2.newtons_method(p2.func2, p2.funcp2, 1.0)"
   ]
  },
  {
   "cell_type": "markdown",
   "metadata": {},
   "source": [
    "### Bisection Method:"
   ]
  },
  {
   "cell_type": "code",
   "execution_count": 12,
   "metadata": {
    "collapsed": false
   },
   "outputs": [
    {
     "data": {
      "text/plain": [
       "[0.0,\n",
       " -0.5,\n",
       " -0.25,\n",
       " -0.125,\n",
       " -0.0625,\n",
       " -0.03125,\n",
       " -0.015625,\n",
       " -0.0078125,\n",
       " -0.00390625,\n",
       " -0.001953125,\n",
       " -0.0009765625,\n",
       " -0.00048828125,\n",
       " -0.000244140625,\n",
       " -0.0001220703125,\n",
       " -6.103515625e-05,\n",
       " -3.0517578125e-05,\n",
       " -1.52587890625e-05,\n",
       " -7.62939453125e-06]"
      ]
     },
     "execution_count": 12,
     "metadata": {},
     "output_type": "execute_result"
    }
   ],
   "source": [
    "p2.bisection_method(p2.func2, -1.0, 1.0)"
   ]
  },
  {
   "cell_type": "markdown",
   "metadata": {},
   "source": [
    "### Secant Method:"
   ]
  },
  {
   "cell_type": "code",
   "execution_count": 13,
   "metadata": {
    "collapsed": false
   },
   "outputs": [
    {
     "data": {
      "text/plain": [
       "array([ 2.        ,  1.        ,  0.82993616,  0.59447066,  0.45395989,\n",
       "        0.33964378,  0.25661945,  0.19337445,  0.14595533,  0.11013331,\n",
       "        0.08312856,  0.06274507,  0.04736282,  0.035752  ,  0.02698797,\n",
       "        0.02037242,  0.01537861,  0.01160893,  0.00876331,  0.00661522])"
      ]
     },
     "execution_count": 13,
     "metadata": {},
     "output_type": "execute_result"
    }
   ],
   "source": [
    "p2.secant_method(p2.func2, 2.0, 1.0)"
   ]
  },
  {
   "cell_type": "markdown",
   "metadata": {},
   "source": [
    "$$y = x^5 - sin(x)$$"
   ]
  },
  {
   "cell_type": "code",
   "execution_count": 14,
   "metadata": {
    "collapsed": false
   },
   "outputs": [
    {
     "data": {
      "image/png": "[encoded data removed]",
      "text/plain": [
       "<matplotlib.figure.Figure at 0x7fefc0f42d50>"
      ]
     },
     "metadata": {},
     "output_type": "display_data"
    }
   ],
   "source": [
    "p2.graph(p2.func3, -1.2, 1.2, -1.2, 1.2)"
   ]
  },
  {
   "cell_type": "markdown",
   "metadata": {},
   "source": [
    "### Newton's Method:"
   ]
  },
  {
   "cell_type": "code",
   "execution_count": 15,
   "metadata": {
    "collapsed": false
   },
   "outputs": [
    {
     "data": {
      "text/plain": [
       "array([-1.5       , -1.23867693, -1.06648601, -0.98224955, -0.96210045,\n",
       "       -0.96103978, -0.96103694])"
      ]
     },
     "execution_count": 15,
     "metadata": {},
     "output_type": "execute_result"
    }
   ],
   "source": [
    "p2.newtons_method(p2.func3, p2.funcp3, -1.5)"
   ]
  },
  {
   "cell_type": "markdown",
   "metadata": {},
   "source": [
    "### Bisection Method:"
   ]
  },
  {
   "cell_type": "code",
   "execution_count": 16,
   "metadata": {
    "collapsed": false
   },
   "outputs": [
    {
     "data": {
      "text/plain": [
       "[-1.0,\n",
       " -0.75,\n",
       " -0.875,\n",
       " -0.9375,\n",
       " -0.96875,\n",
       " -0.953125,\n",
       " -0.9609375,\n",
       " -0.96484375,\n",
       " -0.962890625,\n",
       " -0.9619140625,\n",
       " -0.96142578125,\n",
       " -0.961181640625,\n",
       " -0.9610595703125,\n",
       " -0.96099853515625,\n",
       " -0.961029052734375,\n",
       " -0.9610443115234375,\n",
       " -0.9610366821289062]"
      ]
     },
     "execution_count": 16,
     "metadata": {},
     "output_type": "execute_result"
    }
   ],
   "source": [
    "p2.bisection_method(p2.func3, -1.5, -0.5)"
   ]
  },
  {
   "cell_type": "markdown",
   "metadata": {},
   "source": [
    "### Secant Method:"
   ]
  },
  {
   "cell_type": "code",
   "execution_count": 17,
   "metadata": {
    "collapsed": false
   },
   "outputs": [
    {
     "data": {
      "text/plain": [
       "array([-1.        , -0.5       , -0.86935238, -1.41540126, -0.89878402,\n",
       "       -0.91950244, -0.96874678, -0.96018937, -0.96102068, -0.96103698,\n",
       "       -0.96103694, -0.96103694])"
      ]
     },
     "execution_count": 17,
     "metadata": {},
     "output_type": "execute_result"
    }
   ],
   "source": [
    "p2.secant_method(p2.func3, -1.0, -0.5)"
   ]
  },
  {
   "cell_type": "markdown",
   "metadata": {},
   "source": [
    "$$y = x^4sin(x)$$"
   ]
  },
  {
   "cell_type": "code",
   "execution_count": 18,
   "metadata": {
    "collapsed": false
   },
   "outputs": [
    {
     "data": {
      "image/png": "[encoded data removed]",
      "text/plain": [
       "<matplotlib.figure.Figure at 0x7fefc0480110>"
      ]
     },
     "metadata": {},
     "output_type": "display_data"
    }
   ],
   "source": [
    "p2.graph(p2.func4, -8, 8, -700, 700)"
   ]
  },
  {
   "cell_type": "markdown",
   "metadata": {},
   "source": [
    "### Newton's Method:"
   ]
  },
  {
   "cell_type": "code",
   "execution_count": 19,
   "metadata": {
    "collapsed": false
   },
   "outputs": [
    {
     "data": {
      "text/plain": [
       "array([ 4.        ,  3.46343041,  3.22270163,  3.14886404,  3.14165908,\n",
       "        3.14159266,  3.14159265])"
      ]
     },
     "execution_count": 19,
     "metadata": {},
     "output_type": "execute_result"
    }
   ],
   "source": [
    "p2.newtons_method(p2.func4, p2.funcp4, 4.0)"
   ]
  },
  {
   "cell_type": "markdown",
   "metadata": {},
   "source": [
    "### Bisection Method:"
   ]
  },
  {
   "cell_type": "code",
   "execution_count": 20,
   "metadata": {
    "collapsed": false
   },
   "outputs": [
    {
     "data": {
      "text/plain": [
       "[3.0,\n",
       " 3.5,\n",
       " 3.25,\n",
       " 3.125,\n",
       " 3.1875,\n",
       " 3.15625,\n",
       " 3.140625,\n",
       " 3.1484375,\n",
       " 3.14453125,\n",
       " 3.142578125,\n",
       " 3.1416015625,\n",
       " 3.14111328125,\n",
       " 3.141357421875,\n",
       " 3.1414794921875,\n",
       " 3.14154052734375,\n",
       " 3.141571044921875,\n",
       " 3.1415863037109375,\n",
       " 3.1415939331054688]"
      ]
     },
     "execution_count": 20,
     "metadata": {},
     "output_type": "execute_result"
    }
   ],
   "source": [
    "p2.bisection_method(p2.func4, 2.0, 4.0)"
   ]
  },
  {
   "cell_type": "markdown",
   "metadata": {},
   "source": [
    "### Secant Method:"
   ]
  },
  {
   "cell_type": "code",
   "execution_count": 21,
   "metadata": {
    "collapsed": false
   },
   "outputs": [
    {
     "data": {
      "text/plain": [
       "array([ 2.        ,  3.        ,  6.66599766,  2.94228849,  2.86583567,\n",
       "        3.26384803,  3.09281543,  3.13451017,  3.14205633,  3.14158845,\n",
       "        3.14159265,  3.14159265,  3.14159265])"
      ]
     },
     "execution_count": 21,
     "metadata": {},
     "output_type": "execute_result"
    }
   ],
   "source": [
    "p2.secant_method(p2.func4, 2.0, 3.0)"
   ]
  },
  {
   "cell_type": "markdown",
   "metadata": {},
   "source": [
    "$$y = x^4 - 16$$"
   ]
  },
  {
   "cell_type": "code",
   "execution_count": 22,
   "metadata": {
    "collapsed": false
   },
   "outputs": [
    {
     "data": {
      "image/png": "[encoded data removed]",
      "text/plain": [
       "<matplotlib.figure.Figure at 0x7fefc0390750>"
      ]
     },
     "metadata": {},
     "output_type": "display_data"
    }
   ],
   "source": [
    "p2.graph(p2.func5, -2.2, 2.2, -16, 6)"
   ]
  },
  {
   "cell_type": "markdown",
   "metadata": {},
   "source": [
    "### Newton's Method:"
   ]
  },
  {
   "cell_type": "code",
   "execution_count": 23,
   "metadata": {
    "collapsed": false
   },
   "outputs": [
    {
     "data": {
      "text/plain": [
       "array([ 1.        ,  4.75      ,  3.59982322,  2.78561393,  2.27426391,\n",
       "        2.04574373,  2.00151153,  2.00000171,  2.        ])"
      ]
     },
     "execution_count": 23,
     "metadata": {},
     "output_type": "execute_result"
    }
   ],
   "source": [
    "p2.newtons_method(p2.func5, p2.funcp5, 1.0)"
   ]
  },
  {
   "cell_type": "markdown",
   "metadata": {},
   "source": [
    "### Bisection Method:"
   ]
  },
  {
   "cell_type": "code",
   "execution_count": 24,
   "metadata": {
    "collapsed": false
   },
   "outputs": [
    {
     "data": {
      "text/plain": [
       "[2.0,\n",
       " 1.5,\n",
       " 1.75,\n",
       " 1.875,\n",
       " 1.9375,\n",
       " 1.96875,\n",
       " 1.984375,\n",
       " 1.9921875,\n",
       " 1.99609375,\n",
       " 1.998046875,\n",
       " 1.9990234375,\n",
       " 1.99951171875,\n",
       " 1.999755859375,\n",
       " 1.9998779296875,\n",
       " 1.99993896484375,\n",
       " 1.999969482421875,\n",
       " 1.9999847412109375,\n",
       " 1.9999923706054688]"
      ]
     },
     "execution_count": 24,
     "metadata": {},
     "output_type": "execute_result"
    }
   ],
   "source": [
    "p2.bisection_method(p2.func5, 1.0, 3.0)"
   ]
  },
  {
   "cell_type": "markdown",
   "metadata": {},
   "source": [
    "### Secant Method:"
   ]
  },
  {
   "cell_type": "code",
   "execution_count": 25,
   "metadata": {
    "collapsed": false
   },
   "outputs": [
    {
     "data": {
      "text/plain": [
       "array([ 0.5       ,  1.5       ,  3.6875    ,  1.63304388,  1.73575273,\n",
       "        2.09756603,  1.97938549,  1.99853957,  2.00002279,  1.99999998,\n",
       "        2.        ,  2.        ])"
      ]
     },
     "execution_count": 25,
     "metadata": {},
     "output_type": "execute_result"
    }
   ],
   "source": [
    "p2.secant_method(p2.func5, 0.5, 1.5)"
   ]
  },
  {
   "cell_type": "markdown",
   "metadata": {},
   "source": [
    "$$y = x^{10} - 1$$"
   ]
  },
  {
   "cell_type": "code",
   "execution_count": 26,
   "metadata": {
    "collapsed": false
   },
   "outputs": [
    {
     "data": {
      "image/png": "[encoded data removed]",
      "text/plain": [
       "<matplotlib.figure.Figure at 0x7fefc02f3b50>"
      ]
     },
     "metadata": {},
     "output_type": "display_data"
    }
   ],
   "source": [
    "p2.graph(p2.func6, -1.2, 1.2, -1.01, 0.2)"
   ]
  },
  {
   "cell_type": "markdown",
   "metadata": {},
   "source": [
    "### Newton's Method:"
   ]
  },
  {
   "cell_type": "code",
   "execution_count": 27,
   "metadata": {
    "collapsed": false
   },
   "outputs": [
    {
     "data": {
      "text/plain": [
       "array([  0.5       ,  51.65      ,  46.485     ,  41.8365    ,\n",
       "        37.65285   ,  33.887565  ,  30.4988085 ,  27.44892765,\n",
       "        24.70403489,  22.2336314 ,  20.01026826,  18.00924143,\n",
       "        16.20831729,  14.58748556,  13.128737  ,  11.8158633 ,\n",
       "        10.63427697,   9.57084928,   8.61376435,   7.75238791,\n",
       "         6.97714912,   6.27943421,   5.6514908 ,   5.08634174,\n",
       "         4.57770761,   4.11993696,   3.70794356,   3.33714995,\n",
       "         3.00343691,   2.70309824,   2.4328014 ,   2.18955476,\n",
       "         1.97068574,   1.77384024,   1.59703135,   1.43880793,\n",
       "         1.29871134,   1.17835472,   1.08334975,   1.02366466,\n",
       "         1.00231602,   1.00002393,   1.        ])"
      ]
     },
     "execution_count": 27,
     "metadata": {},
     "output_type": "execute_result"
    }
   ],
   "source": [
    "p2.newtons_method(p2.func6, p2.funcp6, 0.5)"
   ]
  },
  {
   "cell_type": "markdown",
   "metadata": {},
   "source": [
    "### Bisection Method:"
   ]
  },
  {
   "cell_type": "code",
   "execution_count": 28,
   "metadata": {
    "collapsed": false
   },
   "outputs": [
    {
     "data": {
      "text/plain": [
       "[1.0,\n",
       " 0.75,\n",
       " 0.875,\n",
       " 0.9375,\n",
       " 0.96875,\n",
       " 0.984375,\n",
       " 0.9921875,\n",
       " 0.99609375,\n",
       " 0.998046875,\n",
       " 0.9990234375,\n",
       " 0.99951171875,\n",
       " 0.999755859375,\n",
       " 0.9998779296875,\n",
       " 0.99993896484375,\n",
       " 0.999969482421875,\n",
       " 0.9999847412109375,\n",
       " 0.9999923706054688]"
      ]
     },
     "execution_count": 28,
     "metadata": {},
     "output_type": "execute_result"
    }
   ],
   "source": [
    "p2.bisection_method(p2.func6, 0.5, 1.5)"
   ]
  },
  {
   "cell_type": "markdown",
   "metadata": {},
   "source": [
    "### Secant Method:"
   ]
  },
  {
   "cell_type": "code",
   "execution_count": 29,
   "metadata": {
    "collapsed": false
   },
   "outputs": [
    {
     "data": {
      "text/plain": [
       "array([ 3.        ,  2.        ,  1.98236967,  1.79214077,  1.68328166,\n",
       "        1.55903311,  1.45252881,  1.35151274,  1.26056759,  1.17916623,\n",
       "        1.10992776,  1.05600265,  1.02090694,  1.00459446,  1.0004126 ,\n",
       "        1.00000845,  1.00000002,  1.        ,  1.        ])"
      ]
     },
     "execution_count": 29,
     "metadata": {},
     "output_type": "execute_result"
    }
   ],
   "source": [
    "p2.secant_method(p2.func6, 3.0, 2.0)"
   ]
  },
  {
   "cell_type": "markdown",
   "metadata": {},
   "source": [
    "$$y = tanh(x) - x^{10}$$"
   ]
  },
  {
   "cell_type": "code",
   "execution_count": 30,
   "metadata": {
    "collapsed": false
   },
   "outputs": [
    {
     "data": {
      "image/png": "[encoded data removed]",
      "text/plain": [
       "<matplotlib.figure.Figure at 0x7fefc0227710>"
      ]
     },
     "metadata": {},
     "output_type": "display_data"
    }
   ],
   "source": [
    "p2.graph(p2.func7, -2, 2, -100, 5)"
   ]
  },
  {
   "cell_type": "markdown",
   "metadata": {},
   "source": [
    "### Newton's Method:"
   ]
  },
  {
   "cell_type": "code",
   "execution_count": 31,
   "metadata": {
    "collapsed": false
   },
   "outputs": [
    {
     "data": {
      "text/plain": [
       "array([ -1.00000000e+00,  -8.30940644e-01,  -4.85385934e-01,\n",
       "         7.03939721e-02,  -2.32779971e-04,   8.40902369e-12])"
      ]
     },
     "execution_count": 31,
     "metadata": {},
     "output_type": "execute_result"
    }
   ],
   "source": [
    "p2.newtons_method(p2.func7, p2.funcp7, -1.0)"
   ]
  },
  {
   "cell_type": "markdown",
   "metadata": {},
   "source": [
    "### Bisection Method:"
   ]
  },
  {
   "cell_type": "code",
   "execution_count": 32,
   "metadata": {
    "collapsed": false
   },
   "outputs": [
    {
     "data": {
      "text/plain": [
       "[0.0,\n",
       " -0.25,\n",
       " -0.125,\n",
       " -0.0625,\n",
       " -0.03125,\n",
       " -0.015625,\n",
       " -0.0078125,\n",
       " -0.00390625,\n",
       " -0.001953125,\n",
       " -0.0009765625,\n",
       " -0.00048828125,\n",
       " -0.000244140625,\n",
       " -0.0001220703125,\n",
       " -6.103515625e-05,\n",
       " -3.0517578125e-05,\n",
       " -1.52587890625e-05,\n",
       " -7.62939453125e-06]"
      ]
     },
     "execution_count": 32,
     "metadata": {},
     "output_type": "execute_result"
    }
   ],
   "source": [
    "p2.bisection_method(p2.func7, -0.5, 0.5)"
   ]
  },
  {
   "cell_type": "markdown",
   "metadata": {},
   "source": [
    "### Secant Method:"
   ]
  },
  {
   "cell_type": "code",
   "execution_count": 33,
   "metadata": {
    "collapsed": false
   },
   "outputs": [
    {
     "data": {
      "text/plain": [
       "array([ -1.50000000e+00,  -5.00000000e-01,  -4.92030341e-01,\n",
       "         7.34719707e-02,  -4.78108680e-03,   8.03930394e-06,\n",
       "        -6.11531609e-11,   1.31744022e-21])"
      ]
     },
     "execution_count": 33,
     "metadata": {},
     "output_type": "execute_result"
    }
   ],
   "source": [
    "p2.secant_method(p2.func7, -1.5, -0.5)"
   ]
  },
  {
   "cell_type": "markdown",
   "metadata": {},
   "source": [
    "## Exercise A.13 (arclength.py):\n",
    "Calculate the length of a curve $y = f(x)$ for $x \\in [a,b]$ using the integral $$s(x) = \\int_{a}^{x} \\sqrt{1 + [f(\\xi)]^2} d\\xi$$\n",
    "The function is applied to $$f(x) = \\int_{-2}^{x} = \\frac{1}{\\sqrt{2\\pi}} e^{-4t^2}dt,\\quad x \\in [-2, 2]$$\n",
    "and $s(x)$ is plotted with $f(x)$"
   ]
  },
  {
   "cell_type": "code",
   "execution_count": 34,
   "metadata": {
    "collapsed": false
   },
   "outputs": [
    {
     "name": "stdout",
     "output_type": "stream",
     "text": [
      "4.18503567547\n"
     ]
    },
    {
     "data": {
      "image/png": "[encoded data removed]",
      "text/plain": [
       "<matplotlib.figure.Figure at 0x7fefc01bc5d0>"
      ]
     },
     "metadata": {},
     "output_type": "display_data"
    }
   ],
   "source": [
    "def func(x):\n",
    "    return (1 / np.sqrt(2 * np.pi)) * np.exp(-4 * x**2)\n",
    "print p3.arclength(func, -2, 2, 10000)[0][-1]\n",
    "s = p3.arclength(func, -2, 2, 10000)[0]\n",
    "p3.graph(s, func, -1.5, 1.5, 0.0, 4.0)"
   ]
  },
  {
   "cell_type": "markdown",
   "metadata": {
    "collapsed": true
   },
   "source": [
    "## Exercise A.14 (sin_Taylor_series_diffeq.py):\n"
   ]
  },
  {
   "cell_type": "markdown",
   "metadata": {},
   "source": [
    "Derive and implement difference equations for computing a Taylor polynomial approximation to $sin x$: \n",
    "$$sin(x) \\approx S(x;n) = \\sum_{j=0}^{n} (-1)^j \\frac{x^{2j+1}}{(2j+1)!}$$\n",
    "derive a relation between two consecutive terms in the series: $$a_j = -\\frac{x^2}{(2j+1)2j} a_{j-1}$$\n",
    "A table is presented showing the accuracy of the approximation for various $x$ and $n$."
   ]
  },
  {
   "cell_type": "code",
   "execution_count": 35,
   "metadata": {
    "collapsed": false
   },
   "outputs": [
    {
     "name": "stdout",
     "output_type": "stream",
     "text": [
      "      x Values:       n Values:       Aproximations:   Exact:\n",
      "       0.010000        2.000000        0.010000        0.010000\n",
      "       0.010000        5.000000        0.010000        0.010000\n",
      "       0.010000       10.000000        0.010000        0.010000\n",
      "       0.010000      100.000000        0.010000        0.010000\n",
      "       1.570796        2.000000        1.004525        1.000000\n",
      "       1.570796        5.000000        1.000000        1.000000\n",
      "       1.570796       10.000000        1.000000        1.000000\n",
      "       1.570796      100.000000        1.000000        1.000000\n",
      "       3.141593        2.000000        0.524044        0.000000\n",
      "       3.141593        5.000000       -0.000445        0.000000\n",
      "       3.141593       10.000000        0.000000        0.000000\n",
      "       3.141593      100.000000        0.000000        0.000000\n",
      "       4.712389        2.000000        6.636667       -1.000000\n",
      "       4.712389        5.000000       -1.081890       -1.000000\n",
      "       4.712389       10.000000       -1.000000       -1.000000\n",
      "       4.712389      100.000000       -1.000000       -1.000000\n"
     ]
    }
   ],
   "source": [
    "p4.table()"
   ]
  },
  {
   "cell_type": "markdown",
   "metadata": {},
   "source": [
    "With a small $x$-value, the number of $n$ makes little to no impact on the accuracy of the approximation. With larger $x$, there is considerable error when $n$ is low. The approximation remains accurate for large $x$-values as long as $n$ is also large."
   ]
  }
 ],
 "metadata": {
  "kernelspec": {
   "display_name": "Python 2 (SageMath)",
   "language": "python",
   "name": "python2"
  },
  "language_info": {
   "codemirror_mode": {
    "name": "ipython",
    "version": 2
   },
   "file_extension": ".py",
   "mimetype": "text/x-python",
   "name": "python",
   "nbconvert_exporter": "python",
   "pygments_lexer": "ipython2",
   "version": "2.7.10"
  },
  "name": "hw-3-malfa100.ipynb"
 },
 "nbformat": 4,
 "nbformat_minor": 0
}
